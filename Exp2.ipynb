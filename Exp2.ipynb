{
  "nbformat": 4,
  "nbformat_minor": 0,
  "metadata": {
    "colab": {
      "provenance": [],
      "toc_visible": true,
      "authorship_tag": "ABX9TyO3F24uWeTsNiiaQQohnJdm",
      "include_colab_link": true
    },
    "kernelspec": {
      "name": "python3",
      "display_name": "Python 3"
    },
    "language_info": {
      "name": "python"
    }
  },
  "cells": [
    {
      "cell_type": "markdown",
      "metadata": {
        "id": "view-in-github",
        "colab_type": "text"
      },
      "source": [
        "<a href=\"https://colab.research.google.com/github/akki0066/akhil-123/blob/main/Exp2.ipynb\" target=\"_parent\"><img src=\"https://colab.research.google.com/assets/colab-badge.svg\" alt=\"Open In Colab\"/></a>"
      ]
    },
    {
      "cell_type": "markdown",
      "source": [],
      "metadata": {
        "id": "teczdJirk_Z8"
      }
    },
    {
      "cell_type": "markdown",
      "source": [
        "define a function using multiple return values"
      ],
      "metadata": {
        "id": "magmec2PlAJT"
      }
    },
    {
      "cell_type": "code",
      "source": [
        "def name():\n",
        "  return\"john\",\"armin\"\n",
        "\n",
        "#print the tuple with the returned values\n",
        "print(name())\n",
        "# get the individual items\n",
        "name_1,name_2 = name()\n",
        "print(name_1,name_2)\n"
      ],
      "metadata": {
        "colab": {
          "base_uri": "https://localhost:8080/"
        },
        "id": "de22giSilfAU",
        "outputId": "8d2f1596-45e2-47c8-ccd1-4b59105b40f6"
      },
      "execution_count": null,
      "outputs": [
        {
          "output_type": "stream",
          "name": "stdout",
          "text": [
            "('john', 'armin')\n",
            "john armin\n"
          ]
        }
      ]
    },
    {
      "cell_type": "markdown",
      "source": [
        "define a function using default arguments"
      ],
      "metadata": {
        "id": "BV47-bznp4xD"
      }
    },
    {
      "cell_type": "code",
      "source": [
        "def student(firstname, lastname='mark',standerd='fifth'):\n",
        "  print(firstname,lastname,'studies in',standerd,'standard')\n",
        "\n",
        "# 1 keyword argument\n",
        "student(firstname = 'John',)\n",
        "\n",
        "# 2 keyword arguments\n",
        "student(firstname = 'john',standerd='seventh')\n",
        "\n",
        "# 3 keyword arguments\n",
        "student(lastname = 'gates',firstname='john')"
      ],
      "metadata": {
        "colab": {
          "base_uri": "https://localhost:8080/"
        },
        "id": "P3EDgjnOqM7b",
        "outputId": "8eb99e74-149f-438e-a6fc-f8c5f88e969b"
      },
      "execution_count": null,
      "outputs": [
        {
          "output_type": "stream",
          "name": "stdout",
          "text": [
            "John mark studies in fifth standard\n",
            "john mark studies in seventh standard\n",
            "john gates studies in fifth standard\n"
          ]
        }
      ]
    },
    {
      "cell_type": "markdown",
      "source": [
        "find the lenth of the string without using any library"
      ],
      "metadata": {
        "id": "CkhCCr1PuZt0"
      }
    },
    {
      "cell_type": "code",
      "source": [
        "string = input(\"Enter string:\")\n",
        "count = 0\n",
        "for i in string:\n",
        "  count = count + 1\n",
        "print(\"length of the string is:\", count)"
      ],
      "metadata": {
        "colab": {
          "base_uri": "https://localhost:8080/"
        },
        "id": "MhJsfTUCxHh9",
        "outputId": "f1dec71c-0829-400e-a37b-a42e0c499b57"
      },
      "execution_count": null,
      "outputs": [
        {
          "output_type": "stream",
          "name": "stdout",
          "text": [
            "Enter string:hellow\n",
            "length of the string is: 6\n"
          ]
        }
      ]
    },
    {
      "cell_type": "markdown",
      "source": [
        "check if the substring is present in a given string or not."
      ],
      "metadata": {
        "id": "AZYp6qmmxSDN"
      }
    },
    {
      "cell_type": "code",
      "source": [
        "string=input(\"Enter string:\")\n",
        "sub_str=input(\"Enter word:\")\n",
        "if(string.find(sub_str)==-1):\n",
        "  print(\"Substring not found in string!\")\n",
        "else:\n",
        "  print(\"Substring in string!\")"
      ],
      "metadata": {
        "colab": {
          "base_uri": "https://localhost:8080/"
        },
        "id": "2F-KCEV2xc_t",
        "outputId": "7bf1d22e-88e5-4016-f3d0-08c2e8bc10bf"
      },
      "execution_count": null,
      "outputs": [
        {
          "output_type": "stream",
          "name": "stdout",
          "text": [
            "Enter string:hello world\n",
            "Enter word:world\n",
            "Substring in string!\n"
          ]
        }
      ]
    },
    {
      "cell_type": "markdown",
      "source": [
        "to perform the given operations on a list:\n"
      ],
      "metadata": {
        "id": "Mq7fCvWTx4ye"
      }
    },
    {
      "cell_type": "code",
      "source": [
        "# initializing lists\n",
        "test_list1 = [1, 3, 4, 6, 8]\n",
        "test_list2 = [4, 5, 6, 2, 10]\n",
        "# printing original lists\n",
        "print (\"Original list 1 : \" + str(test_list1))\n",
        "print (\"Original list 2 : \" + str(test_list2))\n",
        "# using naive method to\n",
        "# add two list\n",
        "res_list = []\n",
        "for i in range(0, len(test_list1)):\n",
        "  res_list.append(test_list1[i] + test_list2[i])\n",
        "  # printing resultant list\n",
        "print (\"Resultant list is :\" + str(res_list))"
      ],
      "metadata": {
        "colab": {
          "base_uri": "https://localhost:8080/"
        },
        "id": "xXwI2FWmyJQd",
        "outputId": "69fecbd2-7e10-4ac9-e483-c07f22a6de1c"
      },
      "execution_count": null,
      "outputs": [
        {
          "output_type": "stream",
          "name": "stdout",
          "text": [
            "Original list 1 : [1, 3, 4, 6, 8]\n",
            "Original list 2 : [4, 5, 6, 2, 10]\n",
            "Resultant list is :[5, 8, 10, 8, 18]\n"
          ]
        }
      ]
    },
    {
      "cell_type": "markdown",
      "source": [
        "Insertion"
      ],
      "metadata": {
        "id": "cX0q5itcywt9"
      }
    },
    {
      "cell_type": "code",
      "source": [
        "# making a list\n",
        "score = [43,45,99,76]\n",
        "#inserting a new score at third position\n",
        "score.insert(2, 45)\n",
        "#printing new list\n",
        "print(score)"
      ],
      "metadata": {
        "colab": {
          "base_uri": "https://localhost:8080/"
        },
        "id": "x216h5COyzId",
        "outputId": "f7764dda-ba49-4d35-8a20-6143babedecb"
      },
      "execution_count": null,
      "outputs": [
        {
          "output_type": "stream",
          "name": "stdout",
          "text": [
            "[43, 45, 45, 99, 76]\n"
          ]
        }
      ]
    },
    {
      "cell_type": "markdown",
      "source": [
        "Slicing"
      ],
      "metadata": {
        "id": "ux-7m1cPzCKm"
      }
    },
    {
      "cell_type": "code",
      "source": [
        "# Initialize list\n",
        "List = [1, 2, 3, 4, 5, 6, 7, 8, 9]\n",
        "# Show original list\n",
        "print(\"Original List:\\n\", List)\n",
        "print(\"\\nSliced Lists: \")\n",
        "# Display sliced list\n",
        "print(List[3:9:2])\n",
        "# Display sliced list\n",
        "print(List[::2])\n",
        "# Display sliced list\n",
        "print(List[::])"
      ],
      "metadata": {
        "colab": {
          "base_uri": "https://localhost:8080/"
        },
        "id": "Elac1MKazFag",
        "outputId": "2c7ac24a-77c0-44fa-aeeb-cf88cbf66b1d"
      },
      "execution_count": null,
      "outputs": [
        {
          "output_type": "stream",
          "name": "stdout",
          "text": [
            "Original List:\n",
            " [1, 2, 3, 4, 5, 6, 7, 8, 9]\n",
            "\n",
            "Sliced Lists: \n",
            "[4, 6, 8]\n",
            "[1, 3, 5, 7, 9]\n",
            "[1, 2, 3, 4, 5, 6, 7, 8, 9]\n"
          ]
        }
      ]
    },
    {
      "cell_type": "markdown",
      "source": [
        " to perform any 5 built-in functions by taking any list"
      ],
      "metadata": {
        "id": "Sx6X2H5ZzS7m"
      }
    },
    {
      "cell_type": "code",
      "source": [
        "# An integer\n",
        "var = -94\n",
        "print('absolute values of integer is:',abs(var))\n"
      ],
      "metadata": {
        "colab": {
          "base_uri": "https://localhost:8080/"
        },
        "id": "MpKh_FlazZiu",
        "outputId": "87670dbe-48a9-45dc-ef5a-d31b5b288fa4"
      },
      "execution_count": null,
      "outputs": [
        {
          "output_type": "stream",
          "name": "stdout",
          "text": [
            "absolute values of integer is: 94\n"
          ]
        }
      ]
    },
    {
      "cell_type": "code",
      "source": [
        "# all the values true\n",
        "k = [1,3,4,6]\n",
        "print(all(k))\n",
        "\n",
        "# all the values true\n",
        "k = [0,False]\n",
        "print(all(k))\n",
        "\n",
        "# one false value\n",
        "k = [1,3,7,0]\n",
        "print(all(k))\n",
        "\n",
        "# one true value\n",
        "k = [0,False,5]\n",
        "print(all(k))\n",
        "\n",
        "# empty iterable\n",
        "k =  []\n",
        "print(all(k))"
      ],
      "metadata": {
        "colab": {
          "base_uri": "https://localhost:8080/"
        },
        "id": "tRwc_JwM0AOu",
        "outputId": "b2a1fd96-eebc-480c-9735-455c95f743db"
      },
      "execution_count": null,
      "outputs": [
        {
          "output_type": "stream",
          "name": "stdout",
          "text": [
            "True\n",
            "False\n",
            "False\n",
            "False\n",
            "True\n"
          ]
        }
      ]
    },
    {
      "cell_type": "code",
      "source": [
        "x = 10\n",
        "y = bin(x)\n",
        "print(y)"
      ],
      "metadata": {
        "colab": {
          "base_uri": "https://localhost:8080/"
        },
        "id": "V5jk7Re116im",
        "outputId": "4bee86ac-7ca9-43ca-c91b-7659dec7da90"
      },
      "execution_count": null,
      "outputs": [
        {
          "output_type": "stream",
          "name": "stdout",
          "text": [
            "0b1010\n"
          ]
        }
      ]
    },
    {
      "cell_type": "code",
      "source": [
        "string = \"hello world.\"\n",
        "array = bytes(string,'utf-8')\n",
        "print(array)"
      ],
      "metadata": {
        "colab": {
          "base_uri": "https://localhost:8080/"
        },
        "id": "58mABZ9p2YMm",
        "outputId": "c228afc8-538c-4967-c08a-6dd0e5448f70"
      },
      "execution_count": null,
      "outputs": [
        {
          "output_type": "stream",
          "name": "stdout",
          "text": [
            "b'hello world.'\n"
          ]
        }
      ]
    },
    {
      "cell_type": "code",
      "source": [
        "s = sum([1,2,4])\n",
        "print(s)\n",
        "s = sum([1,2,4],10)\n",
        "print(s)"
      ],
      "metadata": {
        "colab": {
          "base_uri": "https://localhost:8080/"
        },
        "id": "PRIR8ng428sW",
        "outputId": "c8ffe832-d5a6-42e0-8b04-857fc1eee33e"
      },
      "execution_count": null,
      "outputs": [
        {
          "output_type": "stream",
          "name": "stdout",
          "text": [
            "7\n",
            "17\n"
          ]
        }
      ]
    }
  ]
}