{
  "nbformat": 4,
  "nbformat_minor": 0,
  "metadata": {
    "colab": {
      "provenance": [],
      "authorship_tag": "ABX9TyNP/DWK9RBZ7D3roD91Uhl8",
      "include_colab_link": true
    },
    "kernelspec": {
      "name": "python3",
      "display_name": "Python 3"
    },
    "language_info": {
      "name": "python"
    }
  },
  "cells": [
    {
      "cell_type": "markdown",
      "metadata": {
        "id": "view-in-github",
        "colab_type": "text"
      },
      "source": [
        "<a href=\"https://colab.research.google.com/github/akki0066/akhil-123/blob/main/Exp3.ipynb\" target=\"_parent\"><img src=\"https://colab.research.google.com/assets/colab-badge.svg\" alt=\"Open In Colab\"/></a>"
      ]
    },
    {
      "cell_type": "markdown",
      "source": [],
      "metadata": {
        "id": "BY47CJD5qMol"
      }
    },
    {
      "cell_type": "markdown",
      "source": [
        "write a program to create tuples (name,age,address,college)for at least two members and concatenate the tuples and print the concatenated tuples."
      ],
      "metadata": {
        "id": "163vpwCyqRJN"
      }
    },
    {
      "cell_type": "code",
      "source": [
        "# define tuples for two members\n",
        "member1 = (\"alice\",\"123maple steet\",\"university of wonderland\")\n",
        "member2 = (\"Bob\",25,\"456 Oak Avenue\",\"university of nowhere\")\n",
        "\n",
        "#concatenate the tuples\n",
        "concatenated_members = member1 + member2\n",
        "print(\"concatenated Tuples:\",concatenated_members)"
      ],
      "metadata": {
        "colab": {
          "base_uri": "https://localhost:8080/"
        },
        "id": "gGEg8ouWtJN1",
        "outputId": "f1f316bc-5113-4e62-cfc2-9bdc51e22b1a"
      },
      "execution_count": null,
      "outputs": [
        {
          "output_type": "stream",
          "name": "stdout",
          "text": [
            "concatenated Tuples: ('alice', '123maple steet', 'university of wonderland', 'Bob', 25, '456 Oak Avenue', 'university of nowhere')\n"
          ]
        }
      ]
    },
    {
      "cell_type": "markdown",
      "source": [
        "to count the number of vowles in a string (No control flow allowed)."
      ],
      "metadata": {
        "id": "vkCUN3MnvsXc"
      }
    },
    {
      "cell_type": "code",
      "source": [
        "#take user input\n",
        "string = input('enter a string:')\n",
        "count = 0\n",
        "#to check for less conditions\n",
        "#keep string in lowercase\n",
        "string = string.lower()\n",
        "for i in string:\n",
        "    if i == 'a' or i == 'e' or i == 'i' or i == 'o' or i == 'u':\n",
        "      #if True\n",
        "        count += 1\n",
        "#check if any vowel found\n",
        "if count == 0:\n",
        "  print('no vowels found')\n",
        "else:\n",
        "  print('Total vowels are :'+ str(count))"
      ],
      "metadata": {
        "colab": {
          "base_uri": "https://localhost:8080/"
        },
        "id": "pCz4iuwJwO7s",
        "outputId": "8e206e11-09dc-47f4-cc37-dfea0593015b"
      },
      "execution_count": null,
      "outputs": [
        {
          "output_type": "stream",
          "name": "stdout",
          "text": [
            "enter a string:prepinsta\n",
            "Total vowels are :3\n"
          ]
        }
      ]
    },
    {
      "cell_type": "markdown",
      "source": [
        ". Write a program to check if a given key exists in a dictionary or not.\n"
      ],
      "metadata": {
        "id": "aokkcS8fy5Dj"
      }
    },
    {
      "cell_type": "code",
      "source": [
        "dictExample = {'Aman': 110, 'Rajesh': 440, 'Suraj': 990}\n",
        "# Example 1\n",
        "print(\"Example 1\")\n",
        "try:\n",
        "    dictExample[\"Kamal\"]\n",
        "    print('The key exists in the dictionary')\n",
        "except KeyError as error:\n",
        "    print(\"The key doesn't exist in the dictionary\")\n",
        "# Example 2\n",
        "print(\"Example 2\")\n",
        "try:\n",
        "    dictExample[\"Suraj\"]\n",
        "    print('The key exists in the dictionary')\n",
        "except KeyError as error:\n",
        "    print(\"The given key doesn't exist in the dictionary\")"
      ],
      "metadata": {
        "colab": {
          "base_uri": "https://localhost:8080/"
        },
        "id": "pEuDOXtTzUDj",
        "outputId": "fabaf90d-7355-4a75-e407-76df379eb6b4"
      },
      "execution_count": null,
      "outputs": [
        {
          "output_type": "stream",
          "name": "stdout",
          "text": [
            "Example 1\n",
            "The key doesn't exist in the dictionary\n",
            "Example 2\n",
            "The key exists in the dictionary\n"
          ]
        }
      ]
    },
    {
      "cell_type": "markdown",
      "source": [
        "Write a program to add a new key-value pair to an existing dictionary.\n"
      ],
      "metadata": {
        "id": "8Iwdy7YmzjH7"
      }
    },
    {
      "cell_type": "code",
      "source": [
        "# Define an existing dictionary\n",
        "my_dict = {\n",
        "\"name\": \"Alice\",\n",
        "\"age\": 22,\n",
        "\"address\": \"123 Maple Street\"\n",
        "}\n",
        "# Print the original dictionary\n",
        "print(\"Original dictionary:\", my_dict)\n",
        "# Add a new key-value pair to the dictionary\n",
        "my_dict[\"college\"] = \"University of Wonderland\"\n",
        "# Print the updated dictionary\n",
        "print(\"Updated dictionary:\", my_dict)"
      ],
      "metadata": {
        "colab": {
          "base_uri": "https://localhost:8080/"
        },
        "id": "cAqj1d2hznsr",
        "outputId": "533a519d-d7bb-4ecd-d5f3-b11f97da3995"
      },
      "execution_count": null,
      "outputs": [
        {
          "output_type": "stream",
          "name": "stdout",
          "text": [
            "Original dictionary: {'name': 'Alice', 'age': 22, 'address': '123 Maple Street'}\n",
            "Updated dictionary: {'name': 'Alice', 'age': 22, 'address': '123 Maple Street', 'college': 'University of Wonderland'}\n"
          ]
        }
      ]
    },
    {
      "cell_type": "markdown",
      "source": [
        "Write a program to sum all the items in a given dictionary.\n"
      ],
      "metadata": {
        "id": "BGEUDknUzslr"
      }
    },
    {
      "cell_type": "code",
      "source": [
        "# Define a dictionary with numeric values\n",
        "my_dict = {\n",
        "\"a\": 10,\n",
        "\"b\": 20,\n",
        "\"c\": 30,\n",
        "\"d\": 40\n",
        "}\n",
        "total_sum = sum(my_dict.values())\n",
        "# Print the total sum\n",
        "print(\"Sum of all items in the dictionary:\", total_sum)\n"
      ],
      "metadata": {
        "colab": {
          "base_uri": "https://localhost:8080/"
        },
        "id": "NZuq1p_szveL",
        "outputId": "68cd7ce2-fa9e-4936-fb38-397d0ce51565"
      },
      "execution_count": null,
      "outputs": [
        {
          "output_type": "stream",
          "name": "stdout",
          "text": [
            "Sum of all items in the dictionary: 100\n"
          ]
        }
      ]
    }
  ]
}